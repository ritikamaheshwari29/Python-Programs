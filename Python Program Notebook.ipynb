{
 "cells": [
  {
   "cell_type": "code",
   "execution_count": 1,
   "metadata": {},
   "outputs": [
    {
     "name": "stdout",
     "output_type": "stream",
     "text": [
      "20 4.0 Ritika True\n"
     ]
    }
   ],
   "source": [
    "price=10\n",
    "price=20\n",
    "rating=4.0\n",
    "name='Ritika'\n",
    "is_publish = True\n",
    "print(price,rating,name,is_publish)"
   ]
  },
  {
   "cell_type": "code",
   "execution_count": 2,
   "metadata": {},
   "outputs": [],
   "source": [
    "patient_name = \"John Smith\"\n",
    "Age = 20\n",
    "Is_NewPatient = True"
   ]
  },
  {
   "cell_type": "markdown",
   "metadata": {},
   "source": [
    "<li> patient_name = \"John Smith\" sets the name as a string </li>\n",
    "<li> Age = 20 stores an integer value</li>\n",
    "<li> Is_NewPatient = True is a boolean value </li>"
   ]
  },
  {
   "cell_type": "code",
   "execution_count": 3,
   "metadata": {},
   "outputs": [
    {
     "name": "stdin",
     "output_type": "stream",
     "text": [
      "What is your name?  Ritika\n"
     ]
    }
   ],
   "source": [
    "patient_name= input(\"What is your name? \")"
   ]
  },
  {
   "cell_type": "code",
   "execution_count": 12,
   "metadata": {},
   "outputs": [
    {
     "name": "stdout",
     "output_type": "stream",
     "text": [
      "Ritika Maheshwari\n"
     ]
    }
   ],
   "source": [
    "print(patient_name)"
   ]
  },
  {
   "cell_type": "markdown",
   "metadata": {},
   "source": [
    "To club Age input and display together"
   ]
  },
  {
   "cell_type": "code",
   "execution_count": 5,
   "metadata": {},
   "outputs": [
    {
     "name": "stdin",
     "output_type": "stream",
     "text": [
      "What is your age?  32\n"
     ]
    },
    {
     "name": "stdout",
     "output_type": "stream",
     "text": [
      "32\n"
     ]
    }
   ],
   "source": [
    "age = input(\"What is your age? \")\n",
    "print(age)"
   ]
  },
  {
   "cell_type": "code",
   "execution_count": 6,
   "metadata": {},
   "outputs": [
    {
     "name": "stdin",
     "output_type": "stream",
     "text": [
      "What is your name? Damien\n"
     ]
    },
    {
     "name": "stdout",
     "output_type": "stream",
     "text": [
      "Hi Damien\n"
     ]
    }
   ],
   "source": [
    "hello = input(\"What is your name?\")\n",
    "print(\"Hi\", hello)"
   ]
  },
  {
   "cell_type": "code",
   "execution_count": 7,
   "metadata": {},
   "outputs": [
    {
     "name": "stdin",
     "output_type": "stream",
     "text": [
      "What is your name? Jack\n"
     ]
    },
    {
     "name": "stdout",
     "output_type": "stream",
     "text": [
      "HiJack\n"
     ]
    }
   ],
   "source": [
    "hello = input(\"What is your name?\")\n",
    "print(\"Hi\"+hello)"
   ]
  },
  {
   "cell_type": "code",
   "execution_count": 8,
   "metadata": {},
   "outputs": [
    {
     "name": "stdin",
     "output_type": "stream",
     "text": [
      "What is your name? John\n"
     ]
    },
    {
     "name": "stdout",
     "output_type": "stream",
     "text": [
      "HiJohn\n"
     ]
    }
   ],
   "source": [
    "hello = input(\"What is your name?\")\n",
    "print(\"Hi\" + hello)"
   ]
  },
  {
   "cell_type": "code",
   "execution_count": 9,
   "metadata": {},
   "outputs": [
    {
     "name": "stdin",
     "output_type": "stream",
     "text": [
      "What is your name? Joe\n"
     ]
    },
    {
     "name": "stdout",
     "output_type": "stream",
     "text": [
      "Hi Joe\n"
     ]
    }
   ],
   "source": [
    "hello = input(\"What is your name?\")\n",
    "print(\"Hi \"+hello)"
   ]
  },
  {
   "cell_type": "markdown",
   "metadata": {},
   "source": [
    "> WAP to ask two questions to the user - Person's name and favorite color. Then print a message like - Mosh likes blue"
   ]
  },
  {
   "cell_type": "code",
   "execution_count": 6,
   "metadata": {},
   "outputs": [
    {
     "name": "stdin",
     "output_type": "stream",
     "text": [
      "What is your name?  Ritika\n",
      "What is your favorite color?  Black\n"
     ]
    },
    {
     "name": "stdout",
     "output_type": "stream",
     "text": [
      "Ritika likes Black\n"
     ]
    }
   ],
   "source": [
    "name = input(\"What is your name? \")\n",
    "color = input(\"What is your favorite color? \")\n",
    "print (name +\" likes \"+color)"
   ]
  },
  {
   "cell_type": "markdown",
   "metadata": {},
   "source": [
    "> WAP to prompt the user for hours and rate per hour using input to compute gross pay. Pay the hourly rate for the hours up to 40 and 1.5 times the hourly rate for all hours worked above 40 hours. Use 45 hours and a rate of 10.50 per hour to test the program (the pay should be 498.75). You should use input to read a string and float() to convert the string to a number. Do not worry about error checking the user input - assume the user types numbers properly.\n"
   ]
  },
  {
   "cell_type": "code",
   "execution_count": 2,
   "metadata": {},
   "outputs": [
    {
     "name": "stdin",
     "output_type": "stream",
     "text": [
      "Enter the number of hours 45\n",
      "Enter the rate per hour 10.5\n"
     ]
    },
    {
     "name": "stdout",
     "output_type": "stream",
     "text": [
      "Gross Pay:  498.75\n"
     ]
    }
   ],
   "source": [
    "hours = input(\"Enter the number of hours\")\n",
    "rate = input(\"Enter the rate per hour\")\n",
    "grosspay = float(hours)*float(rate)\n",
    "if(int(hours) > 40):\n",
    "    additionalhours = int(hours) - 40\n",
    "    grosspay = (0.5*float(rate)*float(additionalhours)) + grosspay \n",
    "print(\"Gross Pay: \",grosspay)"
   ]
  },
  {
   "cell_type": "markdown",
   "metadata": {},
   "source": [
    "> WAP the previous program with try and except"
   ]
  },
  {
   "cell_type": "code",
   "execution_count": 1,
   "metadata": {},
   "outputs": [
    {
     "name": "stdin",
     "output_type": "stream",
     "text": [
      "Enter the number of hours 45\n",
      "Enter the rate per hour ten point 5\n"
     ]
    },
    {
     "name": "stdout",
     "output_type": "stream",
     "text": [
      "Enter Integer numbers\n"
     ]
    }
   ],
   "source": [
    "hours = input(\"Enter the number of hours\")\n",
    "rate = input(\"Enter the rate per hour\")\n",
    "try:\n",
    "    grosspay = float(hours)*float(rate)\n",
    "    if(int(hours) > 40):\n",
    "        additionalhours = int(hours) - 40\n",
    "        grosspay = (0.5*float(rate)*float(additionalhours)) + grosspay\n",
    "    print(\"Gross Pay: \",grosspay)\n",
    "except:\n",
    "    print(\"Enter Integer numbers\")\n",
    "    quit()"
   ]
  },
  {
   "cell_type": "markdown",
   "metadata": {},
   "source": [
    ">  WAP to prompt for a score between 0.0 and 1.0. If the score is out of range, print an error. If the score is between 0.0 and 1.0, print a grade using the following table:\n",
    "Score Grade\n",
    " '>= 0.9 A\n",
    "'>= 0.8 B\n",
    "'>= 0.7 C\n",
    "'>= 0.6 D\n",
    "'< 0.6 F\n",
    "If the user enters a value out of range, print a suitable error message and exit. For the test, enter a score of 0.85."
   ]
  },
  {
   "cell_type": "code",
   "execution_count": 14,
   "metadata": {},
   "outputs": [
    {
     "name": "stdin",
     "output_type": "stream",
     "text": [
      "Enter a score between 0.0 and 1.0 0.2\n"
     ]
    },
    {
     "name": "stdout",
     "output_type": "stream",
     "text": [
      "F\n"
     ]
    }
   ],
   "source": [
    "score = input(\"Enter a score between 0.0 and 1.0\")\n",
    "fscore = float(score)\n",
    "#print(fscore)\n",
    "if fscore <= 1.0:\n",
    "    if fscore >= 0.9: print(\"A\")\n",
    "    elif fscore >= 0.8: print(\"B\")\n",
    "    elif fscore >= 0.7: print(\"C\")\n",
    "    elif fscore >= 0.6: print(\"D\")\n",
    "    else: print(\"F\")\n",
    "else: print(\"Score out of range\")"
   ]
  },
  {
   "cell_type": "code",
   "execution_count": 9,
   "metadata": {},
   "outputs": [
    {
     "name": "stdout",
     "output_type": "stream",
     "text": [
      "(50+2j) 50.0 2.0\n"
     ]
    }
   ],
   "source": [
    "x=50+2j\n",
    "print(x, x.real, x.imag)"
   ]
  },
  {
   "cell_type": "code",
   "execution_count": 13,
   "metadata": {},
   "outputs": [],
   "source": [
    "listname = [\"Ritika\", 8767255539, \"Rahul\", 9892368666]"
   ]
  },
  {
   "cell_type": "code",
   "execution_count": 15,
   "metadata": {},
   "outputs": [
    {
     "name": "stdout",
     "output_type": "stream",
     "text": [
      "['Ritika', 8767255539, 'Rahul', 9892368666]\n"
     ]
    }
   ],
   "source": [
    "print (listname)"
   ]
  },
  {
   "cell_type": "code",
   "execution_count": 18,
   "metadata": {},
   "outputs": [
    {
     "name": "stdout",
     "output_type": "stream",
     "text": [
      "15\n",
      "10\n",
      "5\n"
     ]
    }
   ],
   "source": [
    "x = 5\n",
    "y = x\n",
    "x=x+y\n",
    "print(x+y)\n",
    "print(x)\n",
    "print (y)"
   ]
  },
  {
   "cell_type": "code",
   "execution_count": 19,
   "metadata": {},
   "outputs": [
    {
     "data": {
      "text/plain": [
       "3"
      ]
     },
     "execution_count": 19,
     "metadata": {},
     "output_type": "execute_result"
    }
   ],
   "source": [
    "7//2"
   ]
  },
  {
   "cell_type": "code",
   "execution_count": 21,
   "metadata": {},
   "outputs": [
    {
     "data": {
      "text/plain": [
       "3.5"
      ]
     },
     "execution_count": 21,
     "metadata": {},
     "output_type": "execute_result"
    }
   ],
   "source": [
    "7/2"
   ]
  },
  {
   "cell_type": "code",
   "execution_count": 39,
   "metadata": {},
   "outputs": [
    {
     "data": {
      "text/plain": [
       "True"
      ]
     },
     "execution_count": 39,
     "metadata": {},
     "output_type": "execute_result"
    }
   ],
   "source": [
    "\"a\"!=\"A\" or \"b\"<\"a\""
   ]
  },
  {
   "cell_type": "code",
   "execution_count": 46,
   "metadata": {},
   "outputs": [
    {
     "name": "stdout",
     "output_type": "stream",
     "text": [
      "10\n",
      "120\n"
     ]
    }
   ],
   "source": [
    "a = 10\n",
    "print(a)\n",
    "a*=12\n",
    "print(a)"
   ]
  },
  {
   "cell_type": "code",
   "execution_count": 53,
   "metadata": {},
   "outputs": [
    {
     "name": "stdin",
     "output_type": "stream",
     "text": [
      "Enter data 20\n"
     ]
    }
   ],
   "source": [
    "x=int(input(\"Enter data\"))"
   ]
  },
  {
   "cell_type": "code",
   "execution_count": 54,
   "metadata": {},
   "outputs": [
    {
     "name": "stdout",
     "output_type": "stream",
     "text": [
      "20\n"
     ]
    }
   ],
   "source": [
    "print (x)"
   ]
  },
  {
   "cell_type": "markdown",
   "metadata": {},
   "source": [
    "> 4.6 WAP to prompt the user for hours and rate per hour using input to compute gross pay. Pay should be the normal rate for hours up to 40 and time-and-a-half for the hourly rate for all hours worked above 40 hours. Put the logic to do the computation of pay in a function called computepay() and use the function to do the computation. The function should return a value. Use 45 hours and a rate of 10.50 per hour to test the program (the pay should be 498.75). You should use input to read a string and float() to convert the string to a number. Do not worry about error checking the user input unless you want to - you can assume the user types numbers properly. Do not name your variable sum or use the sum() function."
   ]
  },
  {
   "cell_type": "code",
   "execution_count": 22,
   "metadata": {},
   "outputs": [
    {
     "name": "stdin",
     "output_type": "stream",
     "text": [
      "Enter Hours: 45\n",
      "Enter Rate: 10.5\n"
     ]
    },
    {
     "name": "stdout",
     "output_type": "stream",
     "text": [
      "Pay 498.75\n"
     ]
    }
   ],
   "source": [
    "def computepay(fh,fr):\n",
    "    grosspay = float(fh)*fr\n",
    "    if(fh>40):\n",
    "        diffinhrs = int(fh) - 40\n",
    "        grosspay = grosspay+(0.5*diffinhrs*(fr))\n",
    "    return grosspay\n",
    "\n",
    "hrs = input(\"Enter Hours:\")\n",
    "rate = float((input(\"Enter Rate:\")))\n",
    "gpay = computepay (fhrs,rate)\n",
    "print(\"Pay\",gpay)"
   ]
  },
  {
   "cell_type": "code",
   "execution_count": null,
   "metadata": {},
   "outputs": [],
   "source": []
  }
 ],
 "metadata": {
  "kernelspec": {
   "display_name": "Python",
   "language": "python",
   "name": "conda-env-python-py"
  },
  "language_info": {
   "codemirror_mode": {
    "name": "ipython",
    "version": 3
   },
   "file_extension": ".py",
   "mimetype": "text/x-python",
   "name": "python",
   "nbconvert_exporter": "python",
   "pygments_lexer": "ipython3",
   "version": "3.6.11"
  }
 },
 "nbformat": 4,
 "nbformat_minor": 4
}
