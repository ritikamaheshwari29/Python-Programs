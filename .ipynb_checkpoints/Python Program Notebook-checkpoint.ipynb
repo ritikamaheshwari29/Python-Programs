{
 "cells": [
  {
   "cell_type": "code",
   "execution_count": 1,
   "metadata": {},
   "outputs": [
    {
     "name": "stdout",
     "output_type": "stream",
     "text": [
      "20 4.0 Ritika True\n"
     ]
    }
   ],
   "source": [
    "price=10\n",
    "price=20\n",
    "rating=4.0\n",
    "name='Ritika'\n",
    "is_publish = True\n",
    "print(price,rating,name,is_publish)"
   ]
  },
  {
   "cell_type": "code",
   "execution_count": 2,
   "metadata": {},
   "outputs": [],
   "source": [
    "patient_name = \"John Smith\"\n",
    "Age = 20\n",
    "Is_NewPatient = True"
   ]
  },
  {
   "cell_type": "markdown",
   "metadata": {},
   "source": [
    "<li> patient_name = \"John Smith\" sets the name as a string </li>\n",
    "<li> Age = 20 stores an integer value</li>\n",
    "<li> Is_NewPatient = True is a boolean value </li>"
   ]
  },
  {
   "cell_type": "code",
   "execution_count": 3,
   "metadata": {},
   "outputs": [
    {
     "name": "stdin",
     "output_type": "stream",
     "text": [
      "What is your name?  Ritika\n"
     ]
    }
   ],
   "source": [
    "patient_name= input(\"What is your name? \")"
   ]
  },
  {
   "cell_type": "code",
   "execution_count": 12,
   "metadata": {},
   "outputs": [
    {
     "name": "stdout",
     "output_type": "stream",
     "text": [
      "Ritika Maheshwari\n"
     ]
    }
   ],
   "source": [
    "print(patient_name)"
   ]
  },
  {
   "cell_type": "markdown",
   "metadata": {},
   "source": [
    "To club Age input and display together"
   ]
  },
  {
   "cell_type": "code",
   "execution_count": 5,
   "metadata": {},
   "outputs": [
    {
     "name": "stdin",
     "output_type": "stream",
     "text": [
      "What is your age?  32\n"
     ]
    },
    {
     "name": "stdout",
     "output_type": "stream",
     "text": [
      "32\n"
     ]
    }
   ],
   "source": [
    "age = input(\"What is your age? \")\n",
    "print(age)"
   ]
  },
  {
   "cell_type": "code",
   "execution_count": 6,
   "metadata": {},
   "outputs": [
    {
     "name": "stdin",
     "output_type": "stream",
     "text": [
      "What is your name? Damien\n"
     ]
    },
    {
     "name": "stdout",
     "output_type": "stream",
     "text": [
      "Hi Damien\n"
     ]
    }
   ],
   "source": [
    "hello = input(\"What is your name?\")\n",
    "print(\"Hi\", hello)"
   ]
  },
  {
   "cell_type": "code",
   "execution_count": 7,
   "metadata": {},
   "outputs": [
    {
     "name": "stdin",
     "output_type": "stream",
     "text": [
      "What is your name? Jack\n"
     ]
    },
    {
     "name": "stdout",
     "output_type": "stream",
     "text": [
      "HiJack\n"
     ]
    }
   ],
   "source": [
    "hello = input(\"What is your name?\")\n",
    "print(\"Hi\"+hello)"
   ]
  },
  {
   "cell_type": "code",
   "execution_count": 8,
   "metadata": {},
   "outputs": [
    {
     "name": "stdin",
     "output_type": "stream",
     "text": [
      "What is your name? John\n"
     ]
    },
    {
     "name": "stdout",
     "output_type": "stream",
     "text": [
      "HiJohn\n"
     ]
    }
   ],
   "source": [
    "hello = input(\"What is your name?\")\n",
    "print(\"Hi\" + hello)"
   ]
  },
  {
   "cell_type": "code",
   "execution_count": 9,
   "metadata": {},
   "outputs": [
    {
     "name": "stdin",
     "output_type": "stream",
     "text": [
      "What is your name? Joe\n"
     ]
    },
    {
     "name": "stdout",
     "output_type": "stream",
     "text": [
      "Hi Joe\n"
     ]
    }
   ],
   "source": [
    "hello = input(\"What is your name?\")\n",
    "print(\"Hi \"+hello)"
   ]
  },
  {
   "cell_type": "markdown",
   "metadata": {},
   "source": [
    "> WAP to ask two questions to the user - Person's name and favorite color. Then print a message like - Mosh likes blue"
   ]
  },
  {
   "cell_type": "code",
   "execution_count": 6,
   "metadata": {},
   "outputs": [
    {
     "name": "stdin",
     "output_type": "stream",
     "text": [
      "What is your name?  Ritika\n",
      "What is your favorite color?  Black\n"
     ]
    },
    {
     "name": "stdout",
     "output_type": "stream",
     "text": [
      "Ritika likes Black\n"
     ]
    }
   ],
   "source": [
    "name = input(\"What is your name? \")\n",
    "color = input(\"What is your favorite color? \")\n",
    "print (name +\" likes \"+color)"
   ]
  },
  {
   "cell_type": "markdown",
   "metadata": {},
   "source": [
    "> WAP to prompt the user for hours and rate per hour using input to compute gross pay. Pay the hourly rate for the hours up to 40 and 1.5 times the hourly rate for all hours worked above 40 hours. Use 45 hours and a rate of 10.50 per hour to test the program (the pay should be 498.75). You should use input to read a string and float() to convert the string to a number. Do not worry about error checking the user input - assume the user types numbers properly.\n"
   ]
  },
  {
   "cell_type": "code",
   "execution_count": 2,
   "metadata": {},
   "outputs": [
    {
     "name": "stdin",
     "output_type": "stream",
     "text": [
      "Enter the number of hours 45\n",
      "Enter the rate per hour 10.5\n"
     ]
    },
    {
     "name": "stdout",
     "output_type": "stream",
     "text": [
      "Gross Pay:  498.75\n"
     ]
    }
   ],
   "source": [
    "hours = input(\"Enter the number of hours\")\n",
    "rate = input(\"Enter the rate per hour\")\n",
    "grosspay = float(hours)*float(rate)\n",
    "if(int(hours) > 40):\n",
    "    additionalhours = int(hours) - 40\n",
    "    grosspay = (0.5*float(rate)*float(additionalhours)) + grosspay \n",
    "print(\"Gross Pay: \",grosspay)"
   ]
  },
  {
   "cell_type": "markdown",
   "metadata": {},
   "source": [
    "> WAP the previous program with try and except"
   ]
  },
  {
   "cell_type": "code",
   "execution_count": 1,
   "metadata": {},
   "outputs": [
    {
     "name": "stdin",
     "output_type": "stream",
     "text": [
      "Enter the number of hours 45\n",
      "Enter the rate per hour ten point 5\n"
     ]
    },
    {
     "name": "stdout",
     "output_type": "stream",
     "text": [
      "Enter Integer numbers\n"
     ]
    }
   ],
   "source": [
    "hours = input(\"Enter the number of hours\")\n",
    "rate = input(\"Enter the rate per hour\")\n",
    "try:\n",
    "    grosspay = float(hours)*float(rate)\n",
    "    if(int(hours) > 40):\n",
    "        additionalhours = int(hours) - 40\n",
    "        grosspay = (0.5*float(rate)*float(additionalhours)) + grosspay\n",
    "    print(\"Gross Pay: \",grosspay)\n",
    "except:\n",
    "    print(\"Enter Integer numbers\")\n",
    "    quit()"
   ]
  },
  {
   "cell_type": "markdown",
   "metadata": {},
   "source": [
    ">  WAP to prompt for a score between 0.0 and 1.0. If the score is out of range, print an error. If the score is between 0.0 and 1.0, print a grade using the following table:\n",
    "Score Grade\n",
    " '>= 0.9 A\n",
    "'>= 0.8 B\n",
    "'>= 0.7 C\n",
    "'>= 0.6 D\n",
    "'< 0.6 F\n",
    "If the user enters a value out of range, print a suitable error message and exit. For the test, enter a score of 0.85."
   ]
  },
  {
   "cell_type": "code",
   "execution_count": 14,
   "metadata": {},
   "outputs": [
    {
     "name": "stdin",
     "output_type": "stream",
     "text": [
      "Enter a score between 0.0 and 1.0 0.2\n"
     ]
    },
    {
     "name": "stdout",
     "output_type": "stream",
     "text": [
      "F\n"
     ]
    }
   ],
   "source": [
    "score = input(\"Enter a score between 0.0 and 1.0\")\n",
    "fscore = float(score)\n",
    "#print(fscore)\n",
    "if fscore <= 1.0:\n",
    "    if fscore >= 0.9: print(\"A\")\n",
    "    elif fscore >= 0.8: print(\"B\")\n",
    "    elif fscore >= 0.7: print(\"C\")\n",
    "    elif fscore >= 0.6: print(\"D\")\n",
    "    else: print(\"F\")\n",
    "else: print(\"Score out of range\")"
   ]
  },
  {
   "cell_type": "code",
   "execution_count": 9,
   "metadata": {},
   "outputs": [
    {
     "name": "stdout",
     "output_type": "stream",
     "text": [
      "(50+2j) 50.0 2.0\n"
     ]
    }
   ],
   "source": [
    "x=50+2j\n",
    "print(x, x.real, x.imag)"
   ]
  },
  {
   "cell_type": "code",
   "execution_count": 13,
   "metadata": {},
   "outputs": [],
   "source": [
    "listname = [\"Ritika\", 8767255539, \"Rahul\", 9892368666]"
   ]
  },
  {
   "cell_type": "code",
   "execution_count": 15,
   "metadata": {},
   "outputs": [
    {
     "name": "stdout",
     "output_type": "stream",
     "text": [
      "['Ritika', 8767255539, 'Rahul', 9892368666]\n"
     ]
    }
   ],
   "source": [
    "print (listname)"
   ]
  },
  {
   "cell_type": "code",
   "execution_count": 18,
   "metadata": {},
   "outputs": [
    {
     "name": "stdout",
     "output_type": "stream",
     "text": [
      "15\n",
      "10\n",
      "5\n"
     ]
    }
   ],
   "source": [
    "x = 5\n",
    "y = x\n",
    "x=x+y\n",
    "print(x+y)\n",
    "print(x)\n",
    "print (y)"
   ]
  },
  {
   "cell_type": "code",
   "execution_count": 19,
   "metadata": {},
   "outputs": [
    {
     "data": {
      "text/plain": [
       "3"
      ]
     },
     "execution_count": 19,
     "metadata": {},
     "output_type": "execute_result"
    }
   ],
   "source": [
    "7//2"
   ]
  },
  {
   "cell_type": "code",
   "execution_count": 21,
   "metadata": {},
   "outputs": [
    {
     "data": {
      "text/plain": [
       "3.5"
      ]
     },
     "execution_count": 21,
     "metadata": {},
     "output_type": "execute_result"
    }
   ],
   "source": [
    "7/2"
   ]
  },
  {
   "cell_type": "code",
   "execution_count": 39,
   "metadata": {},
   "outputs": [
    {
     "data": {
      "text/plain": [
       "True"
      ]
     },
     "execution_count": 39,
     "metadata": {},
     "output_type": "execute_result"
    }
   ],
   "source": [
    "\"a\"!=\"A\" or \"b\"<\"a\""
   ]
  },
  {
   "cell_type": "code",
   "execution_count": 46,
   "metadata": {},
   "outputs": [
    {
     "name": "stdout",
     "output_type": "stream",
     "text": [
      "10\n",
      "120\n"
     ]
    }
   ],
   "source": [
    "a = 10\n",
    "print(a)\n",
    "a*=12\n",
    "print(a)"
   ]
  },
  {
   "cell_type": "code",
   "execution_count": 53,
   "metadata": {},
   "outputs": [
    {
     "name": "stdin",
     "output_type": "stream",
     "text": [
      "Enter data 20\n"
     ]
    }
   ],
   "source": [
    "x=int(input(\"Enter data\"))"
   ]
  },
  {
   "cell_type": "code",
   "execution_count": 54,
   "metadata": {},
   "outputs": [
    {
     "name": "stdout",
     "output_type": "stream",
     "text": [
      "20\n"
     ]
    }
   ],
   "source": [
    "print (x)"
   ]
  },
  {
   "cell_type": "markdown",
   "metadata": {},
   "source": [
    "> 4.6 WAP to prompt the user for hours and rate per hour using input to compute gross pay. Pay should be the normal rate for hours up to 40 and time-and-a-half for the hourly rate for all hours worked above 40 hours. Put the logic to do the computation of pay in a function called computepay() and use the function to do the computation. The function should return a value. Use 45 hours and a rate of 10.50 per hour to test the program (the pay should be 498.75). You should use input to read a string and float() to convert the string to a number. Do not worry about error checking the user input unless you want to - you can assume the user types numbers properly. Do not name your variable sum or use the sum() function."
   ]
  },
  {
   "cell_type": "code",
   "execution_count": 22,
   "metadata": {},
   "outputs": [
    {
     "name": "stdin",
     "output_type": "stream",
     "text": [
      "Enter Hours: 45\n",
      "Enter Rate: 10.5\n"
     ]
    },
    {
     "name": "stdout",
     "output_type": "stream",
     "text": [
      "Pay 498.75\n"
     ]
    }
   ],
   "source": [
    "def computepay(fh,fr):\n",
    "    grosspay = float(fh)*fr\n",
    "    if(fh>40):\n",
    "        diffinhrs = int(fh) - 40\n",
    "        grosspay = grosspay+(0.5*diffinhrs*(fr))\n",
    "    return grosspay\n",
    "\n",
    "hrs = input(\"Enter Hours:\")\n",
    "rate = float((input(\"Enter Rate:\")))\n",
    "gpay = computepay (fhrs,rate)\n",
    "print(\"Pay\",gpay)"
   ]
  },
  {
   "cell_type": "code",
   "execution_count": 1,
   "metadata": {},
   "outputs": [
    {
     "name": "stdout",
     "output_type": "stream",
     "text": [
      "-1\n"
     ]
    }
   ],
   "source": [
    "smallest_so_far = -1\n",
    "for the_num in [9, 41, 12, 3, 74, 15] :\n",
    "   if the_num < smallest_so_far :\n",
    "      smallest_so_far = the_num\n",
    "print(smallest_so_far)"
   ]
  },
  {
   "cell_type": "markdown",
   "metadata": {},
   "source": [
    "> WAP that repeatedly prompts a user for integer numbers until the user enters 'done'. Once 'done' is entered, print out the largest and smallest of the numbers. If the user enters anything other than a valid number catch it with a try/except and put out an appropriate message and ignore the number. Enter 7, 2, bob, 10, and 4 and match the output below.\n"
   ]
  },
  {
   "cell_type": "code",
   "execution_count": 7,
   "metadata": {},
   "outputs": [
    {
     "name": "stdin",
     "output_type": "stream",
     "text": [
      "Enter a number: 7\n",
      "Enter a number: 2\n",
      "Enter a number: bob\n"
     ]
    },
    {
     "name": "stdout",
     "output_type": "stream",
     "text": [
      "Invalid Input\n"
     ]
    },
    {
     "name": "stdin",
     "output_type": "stream",
     "text": [
      "Enter a number: 10\n",
      "Enter a number: 4\n",
      "Enter a number: done\n"
     ]
    },
    {
     "name": "stdout",
     "output_type": "stream",
     "text": [
      "Maximum is 10\n",
      "Minimum is 2\n"
     ]
    }
   ],
   "source": [
    "largest_so_far = -1\n",
    "smallest_so_far = None\n",
    "counter = 0\n",
    "while True:\n",
    "    num = input(\"Enter a number:\")\n",
    "    if (num == 'done'):\n",
    "        break\n",
    "    else:\n",
    "        try:\n",
    "            inum = int(num)\n",
    "        except:\n",
    "            print(\"Invalid Input\")\n",
    "            continue        \n",
    "    if inum > largest_so_far:\n",
    "        largest_so_far = inum\n",
    "    if smallest_so_far is None:\n",
    "        smallest_so_far = inum\n",
    "    elif inum < smallest_so_far:\n",
    "        smallest_so_far = inum\n",
    "print(\"Maximum is\", largest_so_far)\n",
    "print(\"Minimum is\", smallest_so_far)"
   ]
  },
  {
   "cell_type": "markdown",
   "metadata": {},
   "source": [
    "#### String Slicing and Indexing"
   ]
  },
  {
   "cell_type": "code",
   "execution_count": 1,
   "metadata": {},
   "outputs": [],
   "source": [
    "string = \"Ritika Rahul Jain\""
   ]
  },
  {
   "cell_type": "code",
   "execution_count": 2,
   "metadata": {},
   "outputs": [
    {
     "data": {
      "text/plain": [
       "'k'"
      ]
     },
     "execution_count": 2,
     "metadata": {},
     "output_type": "execute_result"
    }
   ],
   "source": [
    "string[4]"
   ]
  },
  {
   "cell_type": "markdown",
   "metadata": {},
   "source": [
    "> WAP to count the number of vowels, consonants and spaces in a user entered string"
   ]
  },
  {
   "cell_type": "code",
   "execution_count": 10,
   "metadata": {},
   "outputs": [
    {
     "name": "stdin",
     "output_type": "stream",
     "text": [
      "Enter a string hello world! My name is Ritika\n"
     ]
    },
    {
     "name": "stdout",
     "output_type": "stream",
     "text": [
      "Number of Vowels in the entered string is 9\n",
      "Number of Consonants in the entered string is 16\n",
      "Number of spaces in the entered string is 5\n"
     ]
    }
   ],
   "source": [
    "string_value = input(\"Enter a string\")\n",
    "length = len(string_value)\n",
    "#print(length)\n",
    "i=length - 1\n",
    "vowelcounter = spacecounter = 0\n",
    "while i>0:\n",
    "    if string_value[i] in ['a','e','i','o','u']:\n",
    "        vowelcounter = vowelcounter + 1\n",
    "    elif string_value[i] is ' ':\n",
    "        spacecounter = spacecounter + 1\n",
    "    i = i-1\n",
    "\n",
    "print(\"Number of Vowels in the entered string is\", vowelcounter)\n",
    "print(\"Number of Consonants in the entered string is\",length-spacecounter-vowelcounter)\n",
    "print(\"Number of spaces in the entered string is\", spacecounter)"
   ]
  },
  {
   "cell_type": "code",
   "execution_count": 15,
   "metadata": {},
   "outputs": [],
   "source": [
    "name = \"RAHUL RITIKA\""
   ]
  },
  {
   "cell_type": "code",
   "execution_count": 17,
   "metadata": {},
   "outputs": [
    {
     "data": {
      "text/plain": [
       "'RITIKA'"
      ]
     },
     "execution_count": 17,
     "metadata": {},
     "output_type": "execute_result"
    }
   ],
   "source": [
    "name[6:]"
   ]
  },
  {
   "cell_type": "code",
   "execution_count": 18,
   "metadata": {},
   "outputs": [
    {
     "data": {
      "text/plain": [
       "'RAHUL'"
      ]
     },
     "execution_count": 18,
     "metadata": {},
     "output_type": "execute_result"
    }
   ],
   "source": [
    "name[:5]"
   ]
  },
  {
   "cell_type": "code",
   "execution_count": 21,
   "metadata": {},
   "outputs": [
    {
     "data": {
      "text/plain": [
       "'RAH'"
      ]
     },
     "execution_count": 21,
     "metadata": {},
     "output_type": "execute_result"
    }
   ],
   "source": [
    "name[:3]"
   ]
  },
  {
   "cell_type": "code",
   "execution_count": 22,
   "metadata": {},
   "outputs": [
    {
     "data": {
      "text/plain": [
       "'IKA'"
      ]
     },
     "execution_count": 22,
     "metadata": {},
     "output_type": "execute_result"
    }
   ],
   "source": [
    "name[9:]"
   ]
  },
  {
   "cell_type": "code",
   "execution_count": 23,
   "metadata": {},
   "outputs": [
    {
     "data": {
      "text/plain": [
       "'AKITIR LUHAR'"
      ]
     },
     "execution_count": 23,
     "metadata": {},
     "output_type": "execute_result"
    }
   ],
   "source": [
    "name[::-1]"
   ]
  },
  {
   "cell_type": "code",
   "execution_count": 24,
   "metadata": {},
   "outputs": [
    {
     "data": {
      "text/plain": [
       "'r'"
      ]
     },
     "execution_count": 24,
     "metadata": {},
     "output_type": "execute_result"
    }
   ],
   "source": [
    "'Hello World'[8]"
   ]
  },
  {
   "cell_type": "code",
   "execution_count": 25,
   "metadata": {},
   "outputs": [
    {
     "data": {
      "text/plain": [
       "'ink'"
      ]
     },
     "execution_count": 25,
     "metadata": {},
     "output_type": "execute_result"
    }
   ],
   "source": [
    "'tinker'[1:4]"
   ]
  },
  {
   "cell_type": "code",
   "execution_count": 3,
   "metadata": {},
   "outputs": [],
   "source": [
    "x = \"I17143: [ON HOLD] India On-Soil Deployment - 2020-2021 Harness Components\""
   ]
  },
  {
   "cell_type": "code",
   "execution_count": 4,
   "metadata": {},
   "outputs": [
    {
     "data": {
      "text/plain": [
       "'I17143: [ON HOLD] INDIA ON-SOIL DEPLOYMENT - 2020-2021 HARNESS COMPONENTS'"
      ]
     },
     "execution_count": 4,
     "metadata": {},
     "output_type": "execute_result"
    }
   ],
   "source": [
    "x.upper()"
   ]
  },
  {
   "cell_type": "code",
   "execution_count": 5,
   "metadata": {},
   "outputs": [
    {
     "data": {
      "text/plain": [
       "<function str.upper>"
      ]
     },
     "execution_count": 5,
     "metadata": {},
     "output_type": "execute_result"
    }
   ],
   "source": [
    "x.upper"
   ]
  },
  {
   "cell_type": "code",
   "execution_count": 6,
   "metadata": {},
   "outputs": [
    {
     "data": {
      "text/plain": [
       "['I17143:',\n",
       " '[ON',\n",
       " 'HOLD]',\n",
       " 'India',\n",
       " 'On-Soil',\n",
       " 'Deployment',\n",
       " '-',\n",
       " '2020-2021',\n",
       " 'Harness',\n",
       " 'Components']"
      ]
     },
     "execution_count": 6,
     "metadata": {},
     "output_type": "execute_result"
    }
   ],
   "source": [
    "x.split()"
   ]
  },
  {
   "cell_type": "code",
   "execution_count": 10,
   "metadata": {},
   "outputs": [
    {
     "data": {
      "text/plain": [
       "['I17143: [ON HOLD] Ind',\n",
       " 'a On-So',\n",
       " 'l Deployment - 2020-2021 Harness Components']"
      ]
     },
     "execution_count": 10,
     "metadata": {},
     "output_type": "execute_result"
    }
   ],
   "source": [
    "x.split(\"i\")"
   ]
  },
  {
   "cell_type": "code",
   "execution_count": 11,
   "metadata": {},
   "outputs": [
    {
     "data": {
      "text/plain": [
       "['I17143:',\n",
       " '[ON',\n",
       " 'HOLD]',\n",
       " 'India',\n",
       " 'On-Soil',\n",
       " 'Deployment',\n",
       " '-',\n",
       " '2020-2021',\n",
       " 'Harness',\n",
       " 'Components']"
      ]
     },
     "execution_count": 11,
     "metadata": {},
     "output_type": "execute_result"
    }
   ],
   "source": [
    "x.split()"
   ]
  },
  {
   "cell_type": "code",
   "execution_count": 12,
   "metadata": {},
   "outputs": [
    {
     "data": {
      "text/plain": [
       "<function str.split>"
      ]
     },
     "execution_count": 12,
     "metadata": {},
     "output_type": "execute_result"
    }
   ],
   "source": [
    "x.split"
   ]
  },
  {
   "cell_type": "code",
   "execution_count": 15,
   "metadata": {},
   "outputs": [
    {
     "data": {
      "text/plain": [
       "<method 'split' of 'str' objects>"
      ]
     },
     "execution_count": 15,
     "metadata": {},
     "output_type": "execute_result"
    }
   ],
   "source": [
    "str.split"
   ]
  },
  {
   "cell_type": "markdown",
   "metadata": {},
   "source": [
    "> WAP to enter a user entered sentence and switch positions of the 2nd and 4th words"
   ]
  },
  {
   "cell_type": "code",
   "execution_count": 44,
   "metadata": {},
   "outputs": [
    {
     "name": "stdin",
     "output_type": "stream",
     "text": [
      "Enter a Sentence the fox brown quick jumped over the lazy dog\n"
     ]
    },
    {
     "name": "stdout",
     "output_type": "stream",
     "text": [
      "Sentence after switching 2nd and 4th words is - the quick brown fox jumped over the lazy dog\n"
     ]
    }
   ],
   "source": [
    "user_sentence = input(\"Enter a Sentence\")\n",
    "split_sentence = user_sentence.split()\n",
    "list_len = len(split_sentence)\n",
    "if(list_len<4):\n",
    "    print(\"Input a string greater than 4 words\")\n",
    "else:\n",
    "    print(\"Sentence after switching 2nd and 4th words is - {a} {d} {c} {b}\".format(a=split_sentence[0],b=split_sentence[1],c=split_sentence[2],d=split_sentence[3]), \" \".join(tuple(split_sentence[4:])))\n",
    "          "
   ]
  },
  {
   "cell_type": "markdown",
   "metadata": {},
   "source": [
    "> WAP to calculate the area of the circle for a given radius upto 3 decimals"
   ]
  },
  {
   "cell_type": "code",
   "execution_count": 49,
   "metadata": {},
   "outputs": [
    {
     "name": "stdin",
     "output_type": "stream",
     "text": [
      "Enter the radius of the circle 5\n"
     ]
    },
    {
     "name": "stdout",
     "output_type": "stream",
     "text": [
      "The area of the circle with radius as 5.0 is 78.571\n"
     ]
    }
   ],
   "source": [
    "radius = float(input(\"Enter the radius of the circle\"))\n",
    "pi = 22/7\n",
    "area = pi*radius**2\n",
    "print(\"The area of the circle with radius as {r} is {a:1.3f}\".format(r=radius, a=area))"
   ]
  },
  {
   "cell_type": "markdown",
   "metadata": {},
   "source": [
    "> WAP to display a grocery list of 5 items in a tabular format"
   ]
  },
  {
   "cell_type": "code",
   "execution_count": 75,
   "metadata": {},
   "outputs": [
    {
     "name": "stdout",
     "output_type": "stream",
     "text": [
      "          Items          |     Price     \n",
      "Lady Finger (Organic)    |         25 INR\n",
      "Apples Kashmir           |        160 INR\n",
      "Pears                    |        250 INR\n",
      "Watermelon               |        567 INR\n",
      "Dummy                    |          0 INR\n"
     ]
    }
   ],
   "source": [
    "print(\"{0:^25}|{1:^15}\".format(\"Items\",\"Price\"))\n",
    "print(\"{0:<25}|{1:>15}\".format(\"Lady Finger \"'(Organic)'\"\",\"25 INR\"))\n",
    "print(\"{0:<25}|{1:>15}\".format(\"Apples Kashmir\",\"160 INR\"))\n",
    "print(\"{0:<25}|{1:>15}\".format(\"Pears\",\" 250 INR\"))\n",
    "print(\"{0:<25}|{1:>15}\".format(\"Watermelon\",\"567 INR\"))\n",
    "print(\"{0:<25}|{1:>15}\".format(\"Dummy\",\"0 INR\"))"
   ]
  },
  {
   "cell_type": "markdown",
   "metadata": {},
   "source": [
    "> WAP to print the users name as a f-string"
   ]
  },
  {
   "cell_type": "code",
   "execution_count": 81,
   "metadata": {},
   "outputs": [
    {
     "name": "stdin",
     "output_type": "stream",
     "text": [
      "Enter your name ruti\n"
     ]
    },
    {
     "name": "stdout",
     "output_type": "stream",
     "text": [
      "Welcome to my world 'ruti'\n"
     ]
    }
   ],
   "source": [
    "name = input(\"Enter your name\")\n",
    "print(f\"Welcome to my world {name!r}\")"
   ]
  },
  {
   "cell_type": "code",
   "execution_count": 79,
   "metadata": {},
   "outputs": [
    {
     "data": {
      "text/plain": [
       "'Python rules!'"
      ]
     },
     "execution_count": 79,
     "metadata": {},
     "output_type": "execute_result"
    }
   ],
   "source": [
    "'{} rules!'.format('Python')"
   ]
  },
  {
   "cell_type": "code",
   "execution_count": 4,
   "metadata": {},
   "outputs": [],
   "source": [
    "mydaydictionary = {\"day1\":\"Sunday\",\"day2\":\"Monday\",\"day3\":\"Tuesday\",\"day4\":\"Thursday\" }"
   ]
  },
  {
   "cell_type": "code",
   "execution_count": 5,
   "metadata": {},
   "outputs": [
    {
     "data": {
      "text/plain": [
       "{'day1': 'Sunday', 'day2': 'Monday', 'day3': 'Tuesday', 'day4': 'Thursday'}"
      ]
     },
     "execution_count": 5,
     "metadata": {},
     "output_type": "execute_result"
    }
   ],
   "source": [
    "mydaydictionary"
   ]
  },
  {
   "cell_type": "code",
   "execution_count": 23,
   "metadata": {},
   "outputs": [],
   "source": [
    "mydaydictionary2 = {\"day1\":1,\"day2\":2,\"day3\":3,\"day4\":4}"
   ]
  },
  {
   "cell_type": "code",
   "execution_count": 24,
   "metadata": {},
   "outputs": [],
   "source": [
    "mydaydictionary2[\"day5\"] = 5"
   ]
  },
  {
   "cell_type": "code",
   "execution_count": 25,
   "metadata": {},
   "outputs": [
    {
     "data": {
      "text/plain": [
       "{'day1': 1, 'day2': 2, 'day3': 3, 'day4': 4, 'day5': 5}"
      ]
     },
     "execution_count": 25,
     "metadata": {},
     "output_type": "execute_result"
    }
   ],
   "source": [
    "mydaydictionary2"
   ]
  },
  {
   "cell_type": "code",
   "execution_count": 8,
   "metadata": {},
   "outputs": [
    {
     "data": {
      "text/plain": [
       "{'M', 'i', 'p', 's'}"
      ]
     },
     "execution_count": 8,
     "metadata": {},
     "output_type": "execute_result"
    }
   ],
   "source": [
    "set(\"Mississippi\")"
   ]
  },
  {
   "cell_type": "code",
   "execution_count": 9,
   "metadata": {},
   "outputs": [],
   "source": [
    "t = (1,2,5,4,3,0)"
   ]
  },
  {
   "cell_type": "code",
   "execution_count": 10,
   "metadata": {},
   "outputs": [
    {
     "data": {
      "text/plain": [
       "(1, 2, 5, 4, 3, 0)"
      ]
     },
     "execution_count": 10,
     "metadata": {},
     "output_type": "execute_result"
    }
   ],
   "source": [
    "t"
   ]
  },
  {
   "cell_type": "code",
   "execution_count": 12,
   "metadata": {},
   "outputs": [
    {
     "data": {
      "text/plain": [
       "1"
      ]
     },
     "execution_count": 12,
     "metadata": {},
     "output_type": "execute_result"
    }
   ],
   "source": [
    "t.count(1)"
   ]
  },
  {
   "cell_type": "code",
   "execution_count": 15,
   "metadata": {},
   "outputs": [
    {
     "data": {
      "text/plain": [
       "4"
      ]
     },
     "execution_count": 15,
     "metadata": {},
     "output_type": "execute_result"
    }
   ],
   "source": [
    "t.index(3)"
   ]
  },
  {
   "cell_type": "code",
   "execution_count": 16,
   "metadata": {},
   "outputs": [
    {
     "data": {
      "text/plain": [
       "{1, 2, 3}"
      ]
     },
     "execution_count": 16,
     "metadata": {},
     "output_type": "execute_result"
    }
   ],
   "source": [
    "set([1,1,2,3])"
   ]
  },
  {
   "cell_type": "markdown",
   "metadata": {},
   "source": [
    "> WAP to count the number of characters in a static string, use Dictionary to store the characters"
   ]
  },
  {
   "cell_type": "code",
   "execution_count": 43,
   "metadata": {},
   "outputs": [
    {
     "name": "stdout",
     "output_type": "stream",
     "text": [
      "11 !\n",
      "dict_items([])\n",
      "{'!': 1, 'd': 1, 'l': 3, 'r': 1, 'o': 2, 'W': 1, ' ': 1, 'e': 1, 'H': 1}\n"
     ]
    }
   ],
   "source": [
    "string = \"Hello World!\"\n",
    "i = len(string) - 1\n",
    "print(i,string[i])\n",
    "dictionary = {}\n",
    "print(dictionary.items())\n",
    "while i> -1:\n",
    "    if string[i] in dictionary:\n",
    "        dictionary[string[i]] = dictionary.get(string[i])+1\n",
    "        #print(\"dictionary value from if\",dictionary.items())\n",
    "    else:\n",
    "        dictionary[string[i]] = 1\n",
    "        #print(\"dictionary value from else\",dictionary.items())\n",
    "    i = i-1\n",
    "print(dictionary)"
   ]
  },
  {
   "cell_type": "code",
   "execution_count": 125,
   "metadata": {},
   "outputs": [
    {
     "name": "stdout",
     "output_type": "stream",
     "text": [
      "Overwriting myfile.txt\n"
     ]
    }
   ],
   "source": [
    "%%writefile myfile.txt\n",
    "this is a dummy file\n",
    "second line"
   ]
  },
  {
   "cell_type": "code",
   "execution_count": 58,
   "metadata": {},
   "outputs": [],
   "source": [
    "myfile = open(\"myfile.txt\")"
   ]
  },
  {
   "cell_type": "code",
   "execution_count": 52,
   "metadata": {},
   "outputs": [
    {
     "ename": "FileNotFoundError",
     "evalue": "[Errno 2] No such file or directory: 'nofile.txt'",
     "output_type": "error",
     "traceback": [
      "\u001b[0;31m---------------------------------------------------------------------------\u001b[0m",
      "\u001b[0;31mFileNotFoundError\u001b[0m                         Traceback (most recent call last)",
      "\u001b[0;32m<ipython-input-52-258bf47860e1>\u001b[0m in \u001b[0;36m<module>\u001b[0;34m\u001b[0m\n\u001b[0;32m----> 1\u001b[0;31m \u001b[0mmyfile2\u001b[0m \u001b[0;34m=\u001b[0m \u001b[0mopen\u001b[0m\u001b[0;34m(\u001b[0m\u001b[0;34m\"nofile.txt\"\u001b[0m\u001b[0;34m)\u001b[0m\u001b[0;34m\u001b[0m\u001b[0;34m\u001b[0m\u001b[0m\n\u001b[0m",
      "\u001b[0;31mFileNotFoundError\u001b[0m: [Errno 2] No such file or directory: 'nofile.txt'"
     ]
    }
   ],
   "source": [
    "myfile2 = open(\"nofile.txt\")"
   ]
  },
  {
   "cell_type": "code",
   "execution_count": 53,
   "metadata": {},
   "outputs": [
    {
     "data": {
      "text/plain": [
       "'/resources/Python Tutorial'"
      ]
     },
     "execution_count": 53,
     "metadata": {},
     "output_type": "execute_result"
    }
   ],
   "source": [
    "pwd"
   ]
  },
  {
   "cell_type": "code",
   "execution_count": 54,
   "metadata": {},
   "outputs": [
    {
     "name": "stdout",
     "output_type": "stream",
     "text": [
      "/resources/Python Tutorial/Python_Programs\n"
     ]
    }
   ],
   "source": [
    "cd Python_Programs/"
   ]
  },
  {
   "cell_type": "code",
   "execution_count": 66,
   "metadata": {},
   "outputs": [
    {
     "data": {
      "text/plain": [
       "0"
      ]
     },
     "execution_count": 66,
     "metadata": {},
     "output_type": "execute_result"
    }
   ],
   "source": [
    "myfile.seek(0)"
   ]
  },
  {
   "cell_type": "code",
   "execution_count": 67,
   "metadata": {},
   "outputs": [],
   "source": [
    "contents = myfile.read()"
   ]
  },
  {
   "cell_type": "code",
   "execution_count": 68,
   "metadata": {},
   "outputs": [
    {
     "data": {
      "text/plain": [
       "'this is a dummy file\\nsecond line\\n'"
      ]
     },
     "execution_count": 68,
     "metadata": {},
     "output_type": "execute_result"
    }
   ],
   "source": [
    "contents"
   ]
  },
  {
   "cell_type": "code",
   "execution_count": 72,
   "metadata": {},
   "outputs": [
    {
     "data": {
      "text/plain": [
       "0"
      ]
     },
     "execution_count": 72,
     "metadata": {},
     "output_type": "execute_result"
    }
   ],
   "source": [
    "myfile.seek(0)"
   ]
  },
  {
   "cell_type": "code",
   "execution_count": 73,
   "metadata": {},
   "outputs": [
    {
     "data": {
      "text/plain": [
       "['this is a dummy file\\n', 'second line\\n']"
      ]
     },
     "execution_count": 73,
     "metadata": {},
     "output_type": "execute_result"
    }
   ],
   "source": [
    "myfile.readlines()"
   ]
  },
  {
   "cell_type": "code",
   "execution_count": 74,
   "metadata": {},
   "outputs": [
    {
     "data": {
      "text/plain": [
       "'/resources/Python Tutorial/Python_Programs'"
      ]
     },
     "execution_count": 74,
     "metadata": {},
     "output_type": "execute_result"
    }
   ],
   "source": [
    "pwd"
   ]
  },
  {
   "cell_type": "code",
   "execution_count": 75,
   "metadata": {},
   "outputs": [],
   "source": [
    "myfile.close()"
   ]
  },
  {
   "cell_type": "code",
   "execution_count": 81,
   "metadata": {},
   "outputs": [],
   "source": [
    "myfile = open(\"myfile.txt\")"
   ]
  },
  {
   "cell_type": "code",
   "execution_count": 82,
   "metadata": {},
   "outputs": [],
   "source": [
    "with open(\"myfile.txt\") as my_newfile:\n",
    "    content = my_newfile.read()"
   ]
  },
  {
   "cell_type": "code",
   "execution_count": 83,
   "metadata": {},
   "outputs": [
    {
     "data": {
      "text/plain": [
       "'this is a dummy file\\nsecond line\\n'"
      ]
     },
     "execution_count": 83,
     "metadata": {},
     "output_type": "execute_result"
    }
   ],
   "source": [
    "content"
   ]
  },
  {
   "cell_type": "code",
   "execution_count": 84,
   "metadata": {},
   "outputs": [],
   "source": [
    "myfile.close()"
   ]
  },
  {
   "cell_type": "code",
   "execution_count": 86,
   "metadata": {},
   "outputs": [
    {
     "ename": "ValueError",
     "evalue": "I/O operation on closed file.",
     "output_type": "error",
     "traceback": [
      "\u001b[0;31m---------------------------------------------------------------------------\u001b[0m",
      "\u001b[0;31mValueError\u001b[0m                                Traceback (most recent call last)",
      "\u001b[0;32m<ipython-input-86-ab6250ee0ce4>\u001b[0m in \u001b[0;36m<module>\u001b[0;34m\u001b[0m\n\u001b[0;32m----> 1\u001b[0;31m \u001b[0mmy_newfile\u001b[0m\u001b[0;34m.\u001b[0m\u001b[0mread\u001b[0m\u001b[0;34m(\u001b[0m\u001b[0;34m)\u001b[0m\u001b[0;34m\u001b[0m\u001b[0;34m\u001b[0m\u001b[0m\n\u001b[0m",
      "\u001b[0;31mValueError\u001b[0m: I/O operation on closed file."
     ]
    }
   ],
   "source": [
    "my_newfile.read()"
   ]
  },
  {
   "cell_type": "markdown",
   "metadata": {},
   "source": [
    "> WAP to count the number of characters from the file myfile.txt, use Dictionary to store the characters"
   ]
  },
  {
   "cell_type": "code",
   "execution_count": 134,
   "metadata": {},
   "outputs": [
    {
     "name": "stdout",
     "output_type": "stream",
     "text": [
      "this is a dummy file\n",
      "second line\n",
      "{'\\n': 2, 'e': 3, 'n': 2, 'i': 4, 'l': 2, ' ': 5, 'd': 2, 'o': 1, 'c': 1, 's': 3, 'f': 1, 'y': 1, 'm': 2, 'u': 1, 'a': 1, 'h': 1, 't': 1}\n",
      "dict_items([])\n",
      "{'}': 1, '1': 8, ' ': 39, ':': 17, \"'\": 34, 't': 2, ',': 16, 'h': 2, 'a': 2, 'u': 2, '2': 5, 'm': 3, 'y': 2, 'f': 2, '3': 2, 's': 4, 'c': 2, 'o': 2, 'd': 3, '5': 1, 'l': 3, '4': 1, 'i': 5, 'n': 4, 'e': 4, '\\\\': 1, '{': 1, '\\n': 2}\n"
     ]
    }
   ],
   "source": [
    "with open(\"myfile.txt\",mode = 'r+') as openedfile:\n",
    "    string = openedfile.read()\n",
    "    print(string)\n",
    "    i = len(string) - 1\n",
    "    dictionary = {}\n",
    "    print(dictionary.items())\n",
    "    while i> -1:\n",
    "        if string[i] in dictionary: \n",
    "            dictionary[string[i]] = dictionary.get(string[i])+1\n",
    "        else: \n",
    "            dictionary[string[i]] = 1\n",
    "        i = i-1\n",
    "    print(dictionary)\n",
    "with open(\"myfile.txt\",mode = \"a\") as openedfile:\n",
    "    openedfile.write(str(dictionary))"
   ]
  },
  {
   "cell_type": "code",
   "execution_count": 138,
   "metadata": {},
   "outputs": [
    {
     "name": "stdout",
     "output_type": "stream",
     "text": [
      "this is a dummy file\n",
      "second line\n",
      "{'\\n': 2, 'e': 3, 'n': 2, 'i': 4, 'l': 2, ' ': 5, 'd': 2, 'o': 1, 'c': 1, 's': 3, 'f': 1, 'y': 1, 'm': 2, 'u': 1, 'a': 1, 'h': 1, 't': 1}{'}': 1, '1': 8, ' ': 39, ':': 17, \"'\": 34, 't': 2, ',': 16, 'h': 2, 'a': 2, 'u': 2, '2': 5, 'm': 3, 'y': 2, 'f': 2, '3': 2, 's': 4, 'c': 2, 'o': 2, 'd': 3, '5': 1, 'l': 3, '4': 1, 'i': 5, 'n': 4, 'e': 4, '\\\\': 1, '{': 1, '\\n': 2}\n"
     ]
    }
   ],
   "source": [
    "print(open(\"myfile.txt\").read())"
   ]
  },
  {
   "cell_type": "markdown",
   "metadata": {},
   "source": [
    "> WAP that opens a file names `test.txt`, writes `'Hello World'` to the file, then closes it."
   ]
  },
  {
   "cell_type": "code",
   "execution_count": 140,
   "metadata": {},
   "outputs": [],
   "source": [
    "with open(\"test2.txt\",mode='w') as file1:\n",
    "    file1.write(\"Hello World\")"
   ]
  },
  {
   "cell_type": "code",
   "execution_count": 141,
   "metadata": {},
   "outputs": [],
   "source": [
    "myfile = open(\"test.txt\",mode='w')\n",
    "myfile.write(\"Hello World\")\n",
    "myfile.close()"
   ]
  },
  {
   "cell_type": "code",
   "execution_count": null,
   "metadata": {},
   "outputs": [],
   "source": []
  }
 ],
 "metadata": {
  "kernelspec": {
   "display_name": "Python",
   "language": "python",
   "name": "conda-env-python-py"
  },
  "language_info": {
   "codemirror_mode": {
    "name": "ipython",
    "version": 3
   },
   "file_extension": ".py",
   "mimetype": "text/x-python",
   "name": "python",
   "nbconvert_exporter": "python",
   "pygments_lexer": "ipython3",
   "version": "3.6.11"
  }
 },
 "nbformat": 4,
 "nbformat_minor": 4
}
