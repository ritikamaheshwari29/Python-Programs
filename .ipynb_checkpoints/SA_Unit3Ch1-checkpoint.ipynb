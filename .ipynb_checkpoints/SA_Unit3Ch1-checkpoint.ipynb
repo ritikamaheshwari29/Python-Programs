{
 "cells": [
  {
   "cell_type": "markdown",
   "metadata": {},
   "source": [
    "# Unit 3 - Lab Excercise (Page 135)"
   ]
  },
  {
   "cell_type": "markdown",
   "metadata": {},
   "source": [
    "#### 1. Record what happens when following statements are executed: a) print n=7 b) print 5+7 c) print 5.2, “this”, 4-2, “that”, 5/2.0"
   ]
  },
  {
   "cell_type": "code",
   "execution_count": 8,
   "metadata": {},
   "outputs": [
    {
     "name": "stdout",
     "output_type": "stream",
     "text": [
      "Incorrect statement in 'print command'\n",
      "12\n",
      "5.2 this 2 that 2.5\n"
     ]
    }
   ],
   "source": [
    "try:\n",
    "    print(n=7)\n",
    "except:\n",
    "    print(\"Incorrect statement in 'print command'\")\n",
    "print (5+7)\n",
    "print (5.2,\"this\",4-2,\"that\", 5/2.0)"
   ]
  },
  {
   "cell_type": "markdown",
   "metadata": {},
   "source": [
    "#### 2. Use IDLE to calculate: a) 6+4 * 10 b) (6+4)* 10"
   ]
  },
  {
   "cell_type": "code",
   "execution_count": 2,
   "metadata": {},
   "outputs": [
    {
     "data": {
      "text/plain": [
       "46"
      ]
     },
     "execution_count": 2,
     "metadata": {},
     "output_type": "execute_result"
    }
   ],
   "source": [
    "6+4*10"
   ]
  },
  {
   "cell_type": "code",
   "execution_count": 3,
   "metadata": {},
   "outputs": [
    {
     "data": {
      "text/plain": [
       "100"
      ]
     },
     "execution_count": 3,
     "metadata": {},
     "output_type": "execute_result"
    }
   ],
   "source": [
    "(6+4)*10"
   ]
  },
  {
   "cell_type": "markdown",
   "metadata": {},
   "source": [
    "#### 3. Type following mathematical expression and record your observations: a) 2**500 b) 1/0"
   ]
  },
  {
   "cell_type": "code",
   "execution_count": 6,
   "metadata": {},
   "outputs": [
    {
     "name": "stdout",
     "output_type": "stream",
     "text": [
      "3273390607896141870013189696827599152216642046043064789483291368096133796404674554883270092325904157150886684127560071009217256545885393053328527589376\n"
     ]
    }
   ],
   "source": [
    "print(2**500)"
   ]
  },
  {
   "cell_type": "code",
   "execution_count": 7,
   "metadata": {},
   "outputs": [
    {
     "ename": "ZeroDivisionError",
     "evalue": "division by zero",
     "output_type": "error",
     "traceback": [
      "\u001b[0;31m---------------------------------------------------------------------------\u001b[0m",
      "\u001b[0;31mZeroDivisionError\u001b[0m                         Traceback (most recent call last)",
      "\u001b[0;32m<ipython-input-7-2fc232d1511a>\u001b[0m in \u001b[0;36m<module>\u001b[0;34m\u001b[0m\n\u001b[0;32m----> 1\u001b[0;31m \u001b[0mprint\u001b[0m\u001b[0;34m(\u001b[0m\u001b[0;36m1\u001b[0m\u001b[0;34m/\u001b[0m\u001b[0;36m0\u001b[0m\u001b[0;34m)\u001b[0m\u001b[0;34m\u001b[0m\u001b[0;34m\u001b[0m\u001b[0m\n\u001b[0m",
      "\u001b[0;31mZeroDivisionError\u001b[0m: division by zero"
     ]
    }
   ],
   "source": [
    "print(1/0)"
   ]
  },
  {
   "cell_type": "markdown",
   "metadata": {},
   "source": [
    "#### 4. What will be the output of the following code:\n",
    "#### >>> a = 3 - 4 + 10\n",
    "#### >>> b = 5 * 6\n",
    "#### >>> c = 7.0/8.0\n",
    "#### >>> print \"These are the values:\", a, b, c"
   ]
  },
  {
   "cell_type": "markdown",
   "metadata": {},
   "source": [
    "> <span style=\"color:green\"> Output of this will be - These are the values: 9 30 0.875</span>"
   ]
  },
  {
   "cell_type": "code",
   "execution_count": 9,
   "metadata": {},
   "outputs": [
    {
     "name": "stdout",
     "output_type": "stream",
     "text": [
      "These are the values: 9 30 0.875\n"
     ]
    }
   ],
   "source": [
    "a = 3-4+10\n",
    "b=5*6\n",
    "c=7.0/8.0\n",
    "print (\"These are the values:\",a,b,c)"
   ]
  },
  {
   "cell_type": "markdown",
   "metadata": {},
   "source": [
    "#### 5. Write a code to show the use of all 6 math function."
   ]
  },
  {
   "cell_type": "code",
   "execution_count": 20,
   "metadata": {},
   "outputs": [
    {
     "name": "stdout",
     "output_type": "stream",
     "text": [
      "a= 6 , b= 7 , c= 4 , d= 13 , e= -2 , f= -8 , g= 13 , h= 2 , i= 2\n"
     ]
    }
   ],
   "source": [
    "a = 6\n",
    "b = 7\n",
    "c = 4\n",
    "d = a + b #13\n",
    "e = c - a #-2\n",
    "f = e*c #-8\n",
    "g = -(f-a+1) #-13\n",
    "h = g//a #2\n",
    "i = h%c #2\n",
    "print(\"a=\",a,\", b=\",b,\", c=\",c,\", d=\",d,\", e=\",e,\", f=\",f,\", g=\",g,\", h=\",h,\", i=\",i)"
   ]
  },
  {
   "cell_type": "markdown",
   "metadata": {},
   "source": [
    "#### 6. Write a code that prints your full name and your Birthday as separate strings"
   ]
  },
  {
   "cell_type": "code",
   "execution_count": 10,
   "metadata": {},
   "outputs": [
    {
     "name": "stdin",
     "output_type": "stream",
     "text": [
      "Enter Full Name Rahul Sanjay Jain\n",
      "Enter your Birthday 7th November 1991\n"
     ]
    },
    {
     "name": "stdout",
     "output_type": "stream",
     "text": [
      "Rahul Sanjay Jain 7th November 1991\n"
     ]
    }
   ],
   "source": [
    "fname = input(\"Enter Full Name\")\n",
    "bday = input(\"Enter your Birthday\")\n",
    "print(fname,bday)"
   ]
  },
  {
   "cell_type": "markdown",
   "metadata": {},
   "source": [
    "### 7. Write a program that asks two people for their names; stores the names in variables called name1 and name2; says hello to both of them."
   ]
  },
  {
   "cell_type": "code",
   "execution_count": 13,
   "metadata": {},
   "outputs": [
    {
     "name": "stdin",
     "output_type": "stream",
     "text": [
      "Enter the name of 1st Person Rahul\n",
      "Enter the name of 2nd Person Ritika\n"
     ]
    },
    {
     "name": "stdout",
     "output_type": "stream",
     "text": [
      "Hello Rahul and Ritika\n"
     ]
    }
   ],
   "source": [
    "name1 = input(\"Enter the name of 1st Person\")\n",
    "name2 = input(\"Enter the name of 2nd Person\")\n",
    "print(\"Hello\", name1, \"and\",name2)"
   ]
  }
 ],
 "metadata": {
  "kernelspec": {
   "display_name": "Python",
   "language": "python",
   "name": "conda-env-python-py"
  },
  "language_info": {
   "codemirror_mode": {
    "name": "ipython",
    "version": 3
   },
   "file_extension": ".py",
   "mimetype": "text/x-python",
   "name": "python",
   "nbconvert_exporter": "python",
   "pygments_lexer": "ipython3",
   "version": "3.6.11"
  }
 },
 "nbformat": 4,
 "nbformat_minor": 4
}
